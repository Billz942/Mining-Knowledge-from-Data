{
 "cells": [
  {
   "cell_type": "markdown",
   "metadata": {},
   "source": [
    "<div class=\"alert alert-block alert-success\">\n",
    "    \n",
    "# FIT5149 Assignment 1\n",
    "#### Student Name: Muhammad Bilal Elahi\n",
    "#### Student ID: 34200223\n",
    "#### Group Number: 054\n",
    "    \n",
    "    \n",
    "Date: 3/09/2024\n",
    "\n",
    "\n",
    "Environment: Python 3.12.5\n",
    "\n",
    "    \n",
    "</div>"
   ]
  },
  {
   "cell_type": "markdown",
   "metadata": {},
   "source": [
    "<div class=\"alert alert-block alert-danger\">\n",
    "    \n",
    "## Table of Contents\n",
    "\n",
    "</div>    \n",
    "\n",
    "[1. Introduction](#Intro) <br>\n",
    "$\\;\\;\\;\\;$[1.1. Background](#background) <br>\n",
    "$\\;\\;\\;\\;$[1.2. Objectives](#objectives) <br>\n",
    "[2. Importing Libraries](#libs) <br>\n",
    "$\\;\\;\\;\\;$[2.1. Mounting Google Drive](#mount_drive) <br>\n",
    "[3. Examining Patent Files](#examine) <br>\n",
    "$\\;\\;\\;\\;$[3.1. Input File Observations](#inp_obs) <br>\n",
    "[4. Loading and Parsing Files](#load) <br>\n",
    "$\\;\\;\\;\\;$[4.1. Defining Regular Expressions](#Reg_Exp) <br>\n",
    "$\\;\\;\\;\\;$[4.2. Reading File](#Read) <br>\n",
    "$\\;\\;\\;\\;$[4.3. Creating Assignment Dictionary](#dict) <br>\n",
    "$\\;\\;\\;\\;\\;\\;\\;\\;$[4.3.1. Global Variables](#var) <br>\n",
    "$\\;\\;\\;\\;\\;\\;\\;\\;$[4.3.2. Functions](#func) <br>\n",
    "$\\;\\;\\;\\;\\;\\;\\;\\;$[4.3.3. Loop for parsing](#loop) <br>\n",
    "$\\;\\;\\;\\;$[4.4. Converting into JSON](#json_conv) <br>\n",
    "[5. Writing to JSON File](#json_write) <br>\n",
    "$\\;\\;\\;\\;$[5.1. Verification of JSON file](#json_veri) <br>\n",
    "[6. Summary](#summary) <br>\n",
    "[7. References](#Ref) <br>"
   ]
  },
  {
   "cell_type": "markdown",
   "metadata": {},
   "source": [
    "<div class=\"alert alert-block alert-warning\">\n",
    "\n",
    "## 1.  Introduction  <a class=\"anchor\" name=\"Intro\"></a>\n",
    "    \n",
    "</div>"
   ]
  },
  {
   "cell_type": "markdown",
   "metadata": {},
   "source": [
    "<div class=\"alert alert-block alert-info\">\n",
    "    \n",
    "### 1.1. Background <a class=\"anchor\" name=\"background\"></a>"
   ]
  },
  {
   "cell_type": "markdown",
   "metadata": {},
   "source": [
    "<div class=\"alert alert-block alert-info\">\n",
    "    \n",
    "### 1.2. Objectives <a class=\"anchor\" name=\"objectives\"></a>"
   ]
  },
  {
   "cell_type": "markdown",
   "metadata": {},
   "source": [
    "<div class=\"alert alert-block alert-warning\">\n",
    "    \n",
    "## 2.  Importing Libraries  <a class=\"anchor\" name=\"libs\"></a>\n",
    " </div>"
   ]
  },
  {
   "cell_type": "markdown",
   "metadata": {},
   "source": [
    "<div class=\"alert alert-block alert-warning\">\n",
    "\n",
    "## 3.  Examining Raw Data <a class=\"anchor\" name=\"examine\"></a>\n",
    "\n",
    " </div>"
   ]
  },
  {
   "cell_type": "markdown",
   "metadata": {},
   "source": [
    "<div class=\"alert alert-block alert-info\">\n",
    "    \n",
    "### 3.1. Input File Observations <a class=\"anchor\" name=\"inp_obs\"></a>"
   ]
  },
  {
   "cell_type": "markdown",
   "metadata": {},
   "source": [
    "<div class=\"alert alert-block alert-warning\"> \n",
    "\n",
    "## 4.  Loading and Parsing Files <a class=\"anchor\" name=\"load\"></a>\n",
    "\n",
    "</div>"
   ]
  },
  {
   "cell_type": "markdown",
   "metadata": {},
   "source": [
    "<div class=\"alert alert-block alert-info\">\n",
    "    \n",
    "### 4.2. Reading File <a class=\"anchor\" name=\"Read\"></a>"
   ]
  },
  {
   "cell_type": "code",
   "execution_count": null,
   "metadata": {},
   "outputs": [],
   "source": []
  }
 ],
 "metadata": {
  "language_info": {
   "name": "python"
  }
 },
 "nbformat": 4,
 "nbformat_minor": 2
}
